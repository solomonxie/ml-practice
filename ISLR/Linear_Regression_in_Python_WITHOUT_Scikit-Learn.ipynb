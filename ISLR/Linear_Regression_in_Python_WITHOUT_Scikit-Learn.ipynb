{
 "cells": [
  {
   "cell_type": "code",
   "execution_count": 2,
   "metadata": {
    "ExecuteTime": {
     "end_time": "2018-10-23T04:04:51.591446Z",
     "start_time": "2018-10-23T04:04:51.587314Z"
    }
   },
   "outputs": [],
   "source": [
    "# Linear Regression in Python WITHOUT Scikit-Learn\n",
    "# https://medium.com/we-are-orb/linear-regression-in-python-without-scikit-learn-50aef4b8d122"
   ]
  },
  {
   "cell_type": "code",
   "execution_count": 3,
   "metadata": {
    "ExecuteTime": {
     "end_time": "2018-10-23T04:04:52.234059Z",
     "start_time": "2018-10-23T04:04:51.600781Z"
    }
   },
   "outputs": [],
   "source": [
    "import matplotlib.pyplot as plt\n",
    "import numpy as np\n",
    "\n",
    "# from numpy import genfromtxt\n",
    "# this is your 'bad' data set from github\n",
    "my_data = np.genfromtxt('./data/medium_articles_art1_linear_regression.csv', delimiter=',')"
   ]
  },
  {
   "cell_type": "code",
   "execution_count": 16,
   "metadata": {
    "ExecuteTime": {
     "end_time": "2018-10-23T04:17:41.734133Z",
     "start_time": "2018-10-23T04:17:41.728621Z"
    }
   },
   "outputs": [],
   "source": [
    "# [ Setup compute functions ]\n",
    "\n",
    "# Cost functon\n",
    "def computeCost(X, y, theta):\n",
    "    # \"@\" means matrix multiplication of arrays. \n",
    "    # If we want to use * for multiplication \n",
    "    # we will have to convert all arrays to matrices\n",
    "    inner = np.power(((X @ theta.T) - y), 2) \n",
    "    return np.sum(inner) / (2 * len(X))\n",
    "\n",
    "# Gradient Descent\n",
    "def gradientDescent(X, y, theta, alpha, iters):\n",
    "    for i in range(iters):\n",
    "        # you don't need the extra loop - this can be vectorize\n",
    "        # making it much faster and simpler\n",
    "        theta = theta - (alpha/len(X)) * np.sum((X @ theta.T - y) * X, axis=0)\n",
    "        cost = computeCost(X, y, theta)\n",
    "    return (theta, cost)\n",
    "\n"
   ]
  },
  {
   "cell_type": "code",
   "execution_count": 15,
   "metadata": {
    "ExecuteTime": {
     "end_time": "2018-10-23T04:14:30.776549Z",
     "start_time": "2018-10-23T04:14:30.450620Z"
    }
   },
   "outputs": [
    {
     "data": {
      "text/plain": [
       "<matplotlib.collections.PathCollection at 0x1114b0940>"
      ]
     },
     "execution_count": 15,
     "metadata": {},
     "output_type": "execute_result"
    },
    {
     "data": {
      "image/png": "[encoded data removed]",
      "text/plain": [
       "<Figure size 432x288 with 1 Axes>"
      ]
     },
     "metadata": {},
     "output_type": "display_data"
    }
   ],
   "source": [
    "# [ Setup x and y ]\n",
    "\n",
    "# x is columns\n",
    "X = my_data[:, 0].reshape(-1,1) # -1 tells numpy to figure out the dimension by itself\n",
    "ones = np.ones([X.shape[0], 1])\n",
    "X = np.concatenate([ones, X],1)\n",
    "#X = np.hstack([ones, X]) # hstack Stack arrays in sequence horizontally (column wise)\n",
    "\n",
    "# y is a columns vector\n",
    "y = my_data[:, 1].reshape(-1,1)\n",
    "\n",
    "# Display the raw data\n",
    "plt.scatter(my_data[:, 0].reshape(-1,1), y)"
   ]
  },
  {
   "cell_type": "code",
   "execution_count": 14,
   "metadata": {
    "ExecuteTime": {
     "end_time": "2018-10-23T04:14:04.478456Z",
     "start_time": "2018-10-23T04:14:04.166417Z"
    }
   },
   "outputs": [
    {
     "name": "stdout",
     "output_type": "stream",
     "text": [
      "[[1.03533399 1.45914293]] 56.0419737779817\n"
     ]
    },
    {
     "data": {
      "text/plain": [
       "array([[ 48.46090134],\n",
       "       [ 78.99267744],\n",
       "       [ 90.81692096],\n",
       "       [ 70.30907797],\n",
       "       [ 88.31135345],\n",
       "       [ 81.49566843],\n",
       "       [ 77.21980806],\n",
       "       [ 58.37901893],\n",
       "       [ 71.22746553],\n",
       "       [ 77.7133161 ],\n",
       "       [ 67.30921217],\n",
       "       [ 80.34213783],\n",
       "       [ 65.47699463],\n",
       "       [ 85.91144686],\n",
       "       [ 83.80843864],\n",
       "       [ 72.46897274],\n",
       "       [ 66.24034049],\n",
       "       [ 89.01775224],\n",
       "       [ 67.59945559],\n",
       "       [ 57.67461891],\n",
       "       [ 97.61573701],\n",
       "       [ 96.48670349],\n",
       "       [ 70.3172039 ],\n",
       "       [ 61.70013903],\n",
       "       [ 76.68487198],\n",
       "       [ 87.66584925],\n",
       "       [ 84.6588204 ],\n",
       "       [ 93.85953051],\n",
       "       [ 69.23220097],\n",
       "       [ 74.80487319],\n",
       "       [ 77.23760872],\n",
       "       [ 52.93388178],\n",
       "       [ 62.95621935],\n",
       "       [ 85.90571154],\n",
       "       [ 84.94254224],\n",
       "       [ 67.33956319],\n",
       "       [ 91.35076979],\n",
       "       [ 49.32396464],\n",
       "       [ 54.20067971],\n",
       "       [ 56.00949946],\n",
       "       [ 66.04833501],\n",
       "       [ 64.24289989],\n",
       "       [ 74.09921049],\n",
       "       [ 65.04882832],\n",
       "       [ 92.95766271],\n",
       "       [ 48.70413827],\n",
       "       [ 59.64458075],\n",
       "       [ 79.20902966],\n",
       "       [ 50.44806389],\n",
       "       [ 95.45229798],\n",
       "       [ 56.65760576],\n",
       "       [ 65.97089783],\n",
       "       [ 60.27586344],\n",
       "       [ 61.91176398],\n",
       "       [ 75.58095415],\n",
       "       [ 81.4021483 ],\n",
       "       [ 61.41135117],\n",
       "       [ 92.22402998],\n",
       "       [ 72.83083869],\n",
       "       [ 61.01002654],\n",
       "       [ 61.12578168],\n",
       "       [ 74.26444947],\n",
       "       [ 77.46297354],\n",
       "       [ 74.19017324],\n",
       "       [ 50.12776893],\n",
       "       [ 58.75596593],\n",
       "       [ 82.93759406],\n",
       "       [ 84.73476688],\n",
       "       [ 88.97673215],\n",
       "       [ 53.09477249],\n",
       "       [ 47.12691162],\n",
       "       [ 79.33430399],\n",
       "       [ 69.15137794],\n",
       "       [ 63.93580514],\n",
       "       [103.68031297],\n",
       "       [ 65.95677014],\n",
       "       [ 84.94266728],\n",
       "       [ 54.92159422],\n",
       "       [ 82.46387534],\n",
       "       [ 57.87590992],\n",
       "       [ 84.0623392 ],\n",
       "       [ 84.0151884 ],\n",
       "       [ 51.13227021],\n",
       "       [ 87.19734648],\n",
       "       [ 85.35661254],\n",
       "       [ 80.24101021],\n",
       "       [ 75.5810785 ],\n",
       "       [ 74.40517921],\n",
       "       [ 65.54658445],\n",
       "       [ 56.49077317],\n",
       "       [ 49.10020245],\n",
       "       [ 79.37911034],\n",
       "       [101.37436906],\n",
       "       [ 68.49292196],\n",
       "       [100.7230464 ],\n",
       "       [ 74.03650923],\n",
       "       [ 72.88318953],\n",
       "       [ 74.05022751],\n",
       "       [ 71.29286023],\n",
       "       [ 37.70138474]])"
      ]
     },
     "execution_count": 14,
     "metadata": {},
     "output_type": "execute_result"
    },
    {
     "data": {
      "image/png": "[encoded data removed]",
      "text/plain": [
       "<Figure size 432x288 with 1 Axes>"
      ]
     },
     "metadata": {},
     "output_type": "display_data"
    }
   ],
   "source": [
    "# [ Set up arguments for running GD method ]\n",
    "alpha = 0.0001  # small alpha\n",
    "iters = 1000    # iterate times\n",
    "theta = np.array([[1.0, 1.0]])  # theta is a row vector\n",
    "\n",
    "# call functions to calculate Gradient Descent & Cost\n",
    "g, cost = gradientDescent(X, y, theta, alpha, iters)  \n",
    "print(g, cost)\n",
    "\n",
    "# Plotting \n",
    "plt.scatter(my_data[:, 0].reshape(-1,1), y)\n",
    "axes = plt.gca()\n",
    "x_vals = np.array(axes.get_xlim()) \n",
    "y_vals = g[0][0] + g[0][1]* x_vals #the line equation\n",
    "plt.plot(x_vals, y_vals, '--')\n",
    "\n",
    "X @ g.T"
   ]
  },
  {
   "cell_type": "code",
   "execution_count": null,
   "metadata": {},
   "outputs": [],
   "source": []
  }
 ],
 "metadata": {
  "kernelspec": {
   "display_name": "Python 3",
   "language": "python",
   "name": "python3"
  },
  "language_info": {
   "codemirror_mode": {
    "name": "ipython",
    "version": 3
   },
   "file_extension": ".py",
   "mimetype": "text/x-python",
   "name": "python",
   "nbconvert_exporter": "python",
   "pygments_lexer": "ipython3",
   "version": "3.7.0"
  },
  "toc": {
   "base_numbering": 1,
   "nav_menu": {},
   "number_sections": true,
   "sideBar": true,
   "skip_h1_title": false,
   "title_cell": "Table of Contents",
   "title_sidebar": "Contents",
   "toc_cell": false,
   "toc_position": {},
   "toc_section_display": true,
   "toc_window_display": false
  },
  "varInspector": {
   "cols": {
    "lenName": 16,
    "lenType": 16,
    "lenVar": 40
   },
   "kernels_config": {
    "python": {
     "delete_cmd_postfix": "",
     "delete_cmd_prefix": "del ",
     "library": "var_list.py",
     "varRefreshCmd": "print(var_dic_list())"
    },
    "r": {
     "delete_cmd_postfix": ") ",
     "delete_cmd_prefix": "rm(",
     "library": "var_list.r",
     "varRefreshCmd": "cat(var_dic_list()) "
    }
   },
   "types_to_exclude": [
    "module",
    "function",
    "builtin_function_or_method",
    "instance",
    "_Feature"
   ],
   "window_display": false
  }
 },
 "nbformat": 4,
 "nbformat_minor": 2
}
