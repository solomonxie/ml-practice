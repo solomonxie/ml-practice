{
 "cells": [
  {
   "cell_type": "markdown",
   "metadata": {},
   "source": [
    "# Introduction to Statistical Learning (ISL) Book Practice"
   ]
  },
  {
   "cell_type": "markdown",
   "metadata": {},
   "source": [
    "## Builtin functions"
   ]
  },
  {
   "cell_type": "code",
   "execution_count": 34,
   "metadata": {
    "ExecuteTime": {
     "end_time": "2018-10-18T09:53:53.976670Z",
     "start_time": "2018-10-18T09:53:53.866Z"
    }
   },
   "outputs": [],
   "source": [
    "# get help for builtin functions\n",
    "?c"
   ]
  },
  {
   "cell_type": "code",
   "execution_count": 36,
   "metadata": {
    "ExecuteTime": {
     "end_time": "2018-10-18T09:54:04.659609Z",
     "start_time": "2018-10-18T09:54:04.542Z"
    }
   },
   "outputs": [
    {
     "name": "stdout",
     "output_type": "stream",
     "text": [
      "[1] 1 2 3 4\n",
      "[1] 5 6 7 8\n",
      "[1] 4\n",
      "[1]  6  8 10 12\n"
     ]
    }
   ],
   "source": [
    "#?c\n",
    "\n",
    "# (Concatenate) link values to vector\n",
    "vector1 <- c(1,2,3,4)\n",
    "print(vector1)\n",
    "\n",
    "vector2 = c(5,6,7,8)\n",
    "print(vector2)\n",
    "\n",
    "print(length(vector1))\n",
    "\n",
    "print(vector1+vector2)"
   ]
  },
  {
   "cell_type": "code",
   "execution_count": 37,
   "metadata": {
    "ExecuteTime": {
     "end_time": "2018-10-18T09:54:11.993705Z",
     "start_time": "2018-10-18T09:54:11.911Z"
    }
   },
   "outputs": [
    {
     "data": {
      "text/html": [
       "<ol class=list-inline>\n",
       "\t<li>'vector1'</li>\n",
       "\t<li>'vector2'</li>\n",
       "</ol>\n"
      ],
      "text/latex": [
       "\\begin{enumerate*}\n",
       "\\item 'vector1'\n",
       "\\item 'vector2'\n",
       "\\end{enumerate*}\n"
      ],
      "text/markdown": [
       "1. 'vector1'\n",
       "2. 'vector2'\n",
       "\n",
       "\n"
      ],
      "text/plain": [
       "[1] \"vector1\" \"vector2\""
      ]
     },
     "metadata": {},
     "output_type": "display_data"
    },
    {
     "name": "stderr",
     "output_type": "stream",
     "text": [
      "Warning message in rm(x):\n",
      "“object 'x' not found”"
     ]
    }
   ],
   "source": [
    "#?ls\n",
    "\n",
    "# list all objects\n",
    "ls()\n",
    "\n",
    "# remove object\n",
    "rm(x)\n",
    "\n",
    "# remove all object\n",
    "#rm(list=ls())"
   ]
  },
  {
   "cell_type": "code",
   "execution_count": 48,
   "metadata": {
    "ExecuteTime": {
     "end_time": "2018-10-18T09:59:09.086414Z",
     "start_time": "2018-10-18T09:59:09.052Z"
    }
   },
   "outputs": [
    {
     "name": "stdout",
     "output_type": "stream",
     "text": [
      "     [,1] [,2]\n",
      "[1,]    1    3\n",
      "[2,]    2    4\n",
      "     [,1] [,2]\n",
      "[1,]    1    2\n",
      "[2,]    3    4\n"
     ]
    }
   ],
   "source": [
    "#?matrix\n",
    "\n",
    "# create matrix \n",
    "\n",
    "A = matrix(data=c(1,2,3,4), nrow=2, ncol=2)\n",
    "#or\n",
    "B = matrix(c(1,2,3,4), 2, 2, byrow=TRUE)\n",
    "\n",
    "print(A)\n",
    "print(B)"
   ]
  },
  {
   "cell_type": "code",
   "execution_count": 71,
   "metadata": {
    "ExecuteTime": {
     "end_time": "2018-10-18T10:07:46.192625Z",
     "start_time": "2018-10-18T10:07:46.150Z"
    }
   },
   "outputs": [
    {
     "name": "stdout",
     "output_type": "stream",
     "text": [
      " [1] -1.02978504  0.16240213 -1.61667701  1.95669546 -1.19325379  0.22784869\n",
      " [7] -0.78563491 -0.07976469  1.09217163 -1.00321098\n",
      " [1] 50.18366 50.04021 50.09908 50.11109 49.82354 50.04961 49.91357 49.89999\n",
      " [9] 50.04549 49.87319\n"
     ]
    }
   ],
   "source": [
    "#?rnorm\n",
    "\n",
    "# set a seed for random variables (So the random numbers won't change on next run)\n",
    "set.seed(6789)\n",
    "\n",
    "# create a Normal Random Variables with sample-size of 10\n",
    "A = rnorm(10)\n",
    "B = rnorm(10, mean=50, sd=0.1)\n",
    "\n",
    "print(A)\n",
    "print(B)"
   ]
  },
  {
   "cell_type": "code",
   "execution_count": 98,
   "metadata": {
    "ExecuteTime": {
     "end_time": "2018-10-18T10:14:40.603274Z",
     "start_time": "2018-10-18T10:14:40.549Z"
    }
   },
   "outputs": [
    {
     "name": "stdout",
     "output_type": "stream",
     "text": [
      " [1] 48.74709 50.36729 48.32874 53.19056 50.65902 48.35906 50.97486 51.47665\n",
      " [9] 51.15156 49.38922\n",
      "[1] 50.26441\n",
      "[1] 1.561172\n",
      "[1] 2.437258\n"
     ]
    }
   ],
   "source": [
    "# ?mean\n",
    "# ?var\n",
    "# ?sd\n",
    "\n",
    "set.seed(1)\n",
    "\n",
    "A = rnorm(10, mean=50, sd=2)\n",
    "m = mean(A)\n",
    "d = sd(A)\n",
    "v = var(A)\n",
    "\n",
    "print(A)\n",
    "print(m)\n",
    "print(d)\n",
    "print(v)\n"
   ]
  },
  {
   "cell_type": "markdown",
   "metadata": {},
   "source": [
    "## Plot graphics"
   ]
  },
  {
   "cell_type": "code",
   "execution_count": null,
   "metadata": {},
   "outputs": [],
   "source": [
    "\n",
    "x = rnorm()"
   ]
  },
  {
   "cell_type": "code",
   "execution_count": null,
   "metadata": {},
   "outputs": [],
   "source": []
  },
  {
   "cell_type": "code",
   "execution_count": null,
   "metadata": {},
   "outputs": [],
   "source": []
  },
  {
   "cell_type": "code",
   "execution_count": null,
   "metadata": {},
   "outputs": [],
   "source": []
  }
 ],
 "metadata": {
  "kernelspec": {
   "display_name": "R",
   "language": "R",
   "name": "ir"
  },
  "language_info": {
   "codemirror_mode": "r",
   "file_extension": ".r",
   "mimetype": "text/x-r-source",
   "name": "R",
   "pygments_lexer": "r",
   "version": "3.5.1"
  },
  "toc": {
   "base_numbering": 1,
   "nav_menu": {},
   "number_sections": true,
   "sideBar": true,
   "skip_h1_title": false,
   "title_cell": "Table of Contents",
   "title_sidebar": "Contents",
   "toc_cell": false,
   "toc_position": {},
   "toc_section_display": true,
   "toc_window_display": false
  },
  "varInspector": {
   "cols": {
    "lenName": 16,
    "lenType": 16,
    "lenVar": 40
   },
   "kernels_config": {
    "python": {
     "delete_cmd_postfix": "",
     "delete_cmd_prefix": "del ",
     "library": "var_list.py",
     "varRefreshCmd": "print(var_dic_list())"
    },
    "r": {
     "delete_cmd_postfix": ") ",
     "delete_cmd_prefix": "rm(",
     "library": "var_list.r",
     "varRefreshCmd": "cat(var_dic_list()) "
    }
   },
   "types_to_exclude": [
    "module",
    "function",
    "builtin_function_or_method",
    "instance",
    "_Feature"
   ],
   "window_display": false
  }
 },
 "nbformat": 4,
 "nbformat_minor": 2
}
