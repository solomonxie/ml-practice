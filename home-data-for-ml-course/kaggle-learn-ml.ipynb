{
 "cells": [
  {
   "cell_type": "markdown",
   "metadata": {},
   "source": [
    "# [Machine Learning - Kaggle Learn](https://www.kaggle.com/learn/machine-learning)\n",
    "\n",
    "Machine learning is the hottest field in data science, and this track will get you started quickly.\n"
   ]
  },
  {
   "cell_type": "markdown",
   "metadata": {},
   "source": [
    "## [2. Explore Your Data](https://www.kaggle.com/dansbecker/explore-your-data)\n",
    "\n",
    "Load data and set up your environment for your hands-on project"
   ]
  },
  {
   "cell_type": "code",
   "execution_count": 74,
   "metadata": {
    "ExecuteTime": {
     "end_time": "2018-10-06T12:21:12.031318Z",
     "start_time": "2018-10-06T12:21:12.027153Z"
    }
   },
   "outputs": [],
   "source": [
    "import pandas as pd"
   ]
  },
  {
   "cell_type": "code",
   "execution_count": 75,
   "metadata": {
    "ExecuteTime": {
     "end_time": "2018-10-06T12:21:12.170322Z",
     "start_time": "2018-10-06T12:21:12.039080Z"
    }
   },
   "outputs": [
    {
     "name": "stdout",
     "output_type": "stream",
     "text": [
      "kaggle-learn-ml.ipynb sample_submission.csv train.csv\r\n",
      "\u001b[31mmelb_data.csv\u001b[m\u001b[m         test.csv\r\n"
     ]
    }
   ],
   "source": [
    "!ls ."
   ]
  },
  {
   "cell_type": "code",
   "execution_count": 76,
   "metadata": {
    "ExecuteTime": {
     "end_time": "2018-10-06T12:21:12.345491Z",
     "start_time": "2018-10-06T12:21:12.175619Z"
    }
   },
   "outputs": [
    {
     "data": {
      "text/html": [
       "<div>\n",
       "<style scoped>\n",
       "    .dataframe tbody tr th:only-of-type {\n",
       "        vertical-align: middle;\n",
       "    }\n",
       "\n",
       "    .dataframe tbody tr th {\n",
       "        vertical-align: top;\n",
       "    }\n",
       "\n",
       "    .dataframe thead th {\n",
       "        text-align: right;\n",
       "    }\n",
       "</style>\n",
       "<table border=\"1\" class=\"dataframe\">\n",
       "  <thead>\n",
       "    <tr style=\"text-align: right;\">\n",
       "      <th></th>\n",
       "      <th>Rooms</th>\n",
       "      <th>Price</th>\n",
       "      <th>Distance</th>\n",
       "      <th>Postcode</th>\n",
       "      <th>Bedroom2</th>\n",
       "      <th>Bathroom</th>\n",
       "      <th>Car</th>\n",
       "      <th>Landsize</th>\n",
       "      <th>BuildingArea</th>\n",
       "      <th>YearBuilt</th>\n",
       "      <th>Lattitude</th>\n",
       "      <th>Longtitude</th>\n",
       "      <th>Propertycount</th>\n",
       "    </tr>\n",
       "  </thead>\n",
       "  <tbody>\n",
       "    <tr>\n",
       "      <th>count</th>\n",
       "      <td>13580.000000</td>\n",
       "      <td>1.358000e+04</td>\n",
       "      <td>13580.000000</td>\n",
       "      <td>13580.000000</td>\n",
       "      <td>13580.000000</td>\n",
       "      <td>13580.000000</td>\n",
       "      <td>13518.000000</td>\n",
       "      <td>13580.000000</td>\n",
       "      <td>7130.000000</td>\n",
       "      <td>8205.000000</td>\n",
       "      <td>13580.000000</td>\n",
       "      <td>13580.000000</td>\n",
       "      <td>13580.000000</td>\n",
       "    </tr>\n",
       "    <tr>\n",
       "      <th>mean</th>\n",
       "      <td>2.937997</td>\n",
       "      <td>1.075684e+06</td>\n",
       "      <td>10.137776</td>\n",
       "      <td>3105.301915</td>\n",
       "      <td>2.914728</td>\n",
       "      <td>1.534242</td>\n",
       "      <td>1.610075</td>\n",
       "      <td>558.416127</td>\n",
       "      <td>151.967650</td>\n",
       "      <td>1964.684217</td>\n",
       "      <td>-37.809203</td>\n",
       "      <td>144.995216</td>\n",
       "      <td>7454.417378</td>\n",
       "    </tr>\n",
       "    <tr>\n",
       "      <th>std</th>\n",
       "      <td>0.955748</td>\n",
       "      <td>6.393107e+05</td>\n",
       "      <td>5.868725</td>\n",
       "      <td>90.676964</td>\n",
       "      <td>0.965921</td>\n",
       "      <td>0.691712</td>\n",
       "      <td>0.962634</td>\n",
       "      <td>3990.669241</td>\n",
       "      <td>541.014538</td>\n",
       "      <td>37.273762</td>\n",
       "      <td>0.079260</td>\n",
       "      <td>0.103916</td>\n",
       "      <td>4378.581772</td>\n",
       "    </tr>\n",
       "    <tr>\n",
       "      <th>min</th>\n",
       "      <td>1.000000</td>\n",
       "      <td>8.500000e+04</td>\n",
       "      <td>0.000000</td>\n",
       "      <td>3000.000000</td>\n",
       "      <td>0.000000</td>\n",
       "      <td>0.000000</td>\n",
       "      <td>0.000000</td>\n",
       "      <td>0.000000</td>\n",
       "      <td>0.000000</td>\n",
       "      <td>1196.000000</td>\n",
       "      <td>-38.182550</td>\n",
       "      <td>144.431810</td>\n",
       "      <td>249.000000</td>\n",
       "    </tr>\n",
       "    <tr>\n",
       "      <th>25%</th>\n",
       "      <td>2.000000</td>\n",
       "      <td>6.500000e+05</td>\n",
       "      <td>6.100000</td>\n",
       "      <td>3044.000000</td>\n",
       "      <td>2.000000</td>\n",
       "      <td>1.000000</td>\n",
       "      <td>1.000000</td>\n",
       "      <td>177.000000</td>\n",
       "      <td>93.000000</td>\n",
       "      <td>1940.000000</td>\n",
       "      <td>-37.856822</td>\n",
       "      <td>144.929600</td>\n",
       "      <td>4380.000000</td>\n",
       "    </tr>\n",
       "    <tr>\n",
       "      <th>50%</th>\n",
       "      <td>3.000000</td>\n",
       "      <td>9.030000e+05</td>\n",
       "      <td>9.200000</td>\n",
       "      <td>3084.000000</td>\n",
       "      <td>3.000000</td>\n",
       "      <td>1.000000</td>\n",
       "      <td>2.000000</td>\n",
       "      <td>440.000000</td>\n",
       "      <td>126.000000</td>\n",
       "      <td>1970.000000</td>\n",
       "      <td>-37.802355</td>\n",
       "      <td>145.000100</td>\n",
       "      <td>6555.000000</td>\n",
       "    </tr>\n",
       "    <tr>\n",
       "      <th>75%</th>\n",
       "      <td>3.000000</td>\n",
       "      <td>1.330000e+06</td>\n",
       "      <td>13.000000</td>\n",
       "      <td>3148.000000</td>\n",
       "      <td>3.000000</td>\n",
       "      <td>2.000000</td>\n",
       "      <td>2.000000</td>\n",
       "      <td>651.000000</td>\n",
       "      <td>174.000000</td>\n",
       "      <td>1999.000000</td>\n",
       "      <td>-37.756400</td>\n",
       "      <td>145.058305</td>\n",
       "      <td>10331.000000</td>\n",
       "    </tr>\n",
       "    <tr>\n",
       "      <th>max</th>\n",
       "      <td>10.000000</td>\n",
       "      <td>9.000000e+06</td>\n",
       "      <td>48.100000</td>\n",
       "      <td>3977.000000</td>\n",
       "      <td>20.000000</td>\n",
       "      <td>8.000000</td>\n",
       "      <td>10.000000</td>\n",
       "      <td>433014.000000</td>\n",
       "      <td>44515.000000</td>\n",
       "      <td>2018.000000</td>\n",
       "      <td>-37.408530</td>\n",
       "      <td>145.526350</td>\n",
       "      <td>21650.000000</td>\n",
       "    </tr>\n",
       "  </tbody>\n",
       "</table>\n",
       "</div>"
      ],
      "text/plain": [
       "              Rooms         Price      Distance      Postcode      Bedroom2  \\\n",
       "count  13580.000000  1.358000e+04  13580.000000  13580.000000  13580.000000   \n",
       "mean       2.937997  1.075684e+06     10.137776   3105.301915      2.914728   \n",
       "std        0.955748  6.393107e+05      5.868725     90.676964      0.965921   \n",
       "min        1.000000  8.500000e+04      0.000000   3000.000000      0.000000   \n",
       "25%        2.000000  6.500000e+05      6.100000   3044.000000      2.000000   \n",
       "50%        3.000000  9.030000e+05      9.200000   3084.000000      3.000000   \n",
       "75%        3.000000  1.330000e+06     13.000000   3148.000000      3.000000   \n",
       "max       10.000000  9.000000e+06     48.100000   3977.000000     20.000000   \n",
       "\n",
       "           Bathroom           Car       Landsize  BuildingArea    YearBuilt  \\\n",
       "count  13580.000000  13518.000000   13580.000000   7130.000000  8205.000000   \n",
       "mean       1.534242      1.610075     558.416127    151.967650  1964.684217   \n",
       "std        0.691712      0.962634    3990.669241    541.014538    37.273762   \n",
       "min        0.000000      0.000000       0.000000      0.000000  1196.000000   \n",
       "25%        1.000000      1.000000     177.000000     93.000000  1940.000000   \n",
       "50%        1.000000      2.000000     440.000000    126.000000  1970.000000   \n",
       "75%        2.000000      2.000000     651.000000    174.000000  1999.000000   \n",
       "max        8.000000     10.000000  433014.000000  44515.000000  2018.000000   \n",
       "\n",
       "          Lattitude    Longtitude  Propertycount  \n",
       "count  13580.000000  13580.000000   13580.000000  \n",
       "mean     -37.809203    144.995216    7454.417378  \n",
       "std        0.079260      0.103916    4378.581772  \n",
       "min      -38.182550    144.431810     249.000000  \n",
       "25%      -37.856822    144.929600    4380.000000  \n",
       "50%      -37.802355    145.000100    6555.000000  \n",
       "75%      -37.756400    145.058305   10331.000000  \n",
       "max      -37.408530    145.526350   21650.000000  "
      ]
     },
     "execution_count": 76,
     "metadata": {},
     "output_type": "execute_result"
    }
   ],
   "source": [
    "melb_file_path = 'melb_data.csv'\n",
    "melb_data = pd.read_csv(melb_file_path)\n",
    "\n",
    "melb_data.describe()"
   ]
  },
  {
   "cell_type": "code",
   "execution_count": 77,
   "metadata": {
    "ExecuteTime": {
     "end_time": "2018-10-06T12:21:12.354798Z",
     "start_time": "2018-10-06T12:21:12.348556Z"
    }
   },
   "outputs": [
    {
     "data": {
      "text/plain": [
       "pandas.core.frame.DataFrame"
      ]
     },
     "execution_count": 77,
     "metadata": {},
     "output_type": "execute_result"
    }
   ],
   "source": [
    "type(melb_data)"
   ]
  },
  {
   "cell_type": "code",
   "execution_count": 78,
   "metadata": {
    "ExecuteTime": {
     "end_time": "2018-10-06T12:21:12.365889Z",
     "start_time": "2018-10-06T12:21:12.357807Z"
    }
   },
   "outputs": [
    {
     "data": {
      "text/plain": [
       "Index(['Suburb', 'Address', 'Rooms', 'Type', 'Price', 'Method', 'SellerG',\n",
       "       'Date', 'Distance', 'Postcode', 'Bedroom2', 'Bathroom', 'Car',\n",
       "       'Landsize', 'BuildingArea', 'YearBuilt', 'CouncilArea', 'Lattitude',\n",
       "       'Longtitude', 'Regionname', 'Propertycount'],\n",
       "      dtype='object')"
      ]
     },
     "execution_count": 78,
     "metadata": {},
     "output_type": "execute_result"
    }
   ],
   "source": [
    "melb_data.columns"
   ]
  },
  {
   "cell_type": "code",
   "execution_count": 79,
   "metadata": {
    "ExecuteTime": {
     "end_time": "2018-10-06T12:21:12.379165Z",
     "start_time": "2018-10-06T12:21:12.369131Z"
    },
    "scrolled": true
   },
   "outputs": [
    {
     "data": {
      "text/plain": [
       "0           NaN\n",
       "1        1900.0\n",
       "2        1900.0\n",
       "3           NaN\n",
       "4        2014.0\n",
       "5           NaN\n",
       "6        1910.0\n",
       "7        1890.0\n",
       "8           NaN\n",
       "9        1900.0\n",
       "10          NaN\n",
       "11       2005.0\n",
       "12       2009.0\n",
       "13          NaN\n",
       "14          NaN\n",
       "15       1890.0\n",
       "16       1880.0\n",
       "17       1890.0\n",
       "18          NaN\n",
       "19       1985.0\n",
       "20       1900.0\n",
       "21       2010.0\n",
       "22          NaN\n",
       "23       1970.0\n",
       "24       2013.0\n",
       "25       1900.0\n",
       "26          NaN\n",
       "27       2012.0\n",
       "28          NaN\n",
       "29       1920.0\n",
       "          ...  \n",
       "13550       NaN\n",
       "13551    1970.0\n",
       "13552       NaN\n",
       "13553    1920.0\n",
       "13554    1906.0\n",
       "13555       NaN\n",
       "13556    2003.0\n",
       "13557    2012.0\n",
       "13558       NaN\n",
       "13559       NaN\n",
       "13560    1963.0\n",
       "13561       NaN\n",
       "13562       NaN\n",
       "13563    1950.0\n",
       "13564    1970.0\n",
       "13565       NaN\n",
       "13566       NaN\n",
       "13567       NaN\n",
       "13568    1981.0\n",
       "13569       NaN\n",
       "13570       NaN\n",
       "13571    1980.0\n",
       "13572    2006.0\n",
       "13573    1980.0\n",
       "13574       NaN\n",
       "13575    1981.0\n",
       "13576    1995.0\n",
       "13577    1997.0\n",
       "13578    1920.0\n",
       "13579    1920.0\n",
       "Name: YearBuilt, Length: 13580, dtype: float64"
      ]
     },
     "execution_count": 79,
     "metadata": {},
     "output_type": "execute_result"
    }
   ],
   "source": [
    "# Show one column of data\n",
    "melb_data.YearBuilt"
   ]
  },
  {
   "cell_type": "code",
   "execution_count": 80,
   "metadata": {
    "ExecuteTime": {
     "end_time": "2018-10-06T12:21:12.410280Z",
     "start_time": "2018-10-06T12:21:12.381442Z"
    },
    "scrolled": true
   },
   "outputs": [
    {
     "data": {
      "text/plain": [
       "1        1900.0\n",
       "2        1900.0\n",
       "4        2014.0\n",
       "6        1910.0\n",
       "7        1890.0\n",
       "9        1900.0\n",
       "11       2005.0\n",
       "12       2009.0\n",
       "15       1890.0\n",
       "16       1880.0\n",
       "17       1890.0\n",
       "19       1985.0\n",
       "20       1900.0\n",
       "23       1970.0\n",
       "24       2013.0\n",
       "25       1900.0\n",
       "27       2012.0\n",
       "29       1920.0\n",
       "32       1950.0\n",
       "33       2013.0\n",
       "34       1900.0\n",
       "35       1998.0\n",
       "36       1900.0\n",
       "37       1930.0\n",
       "38       2016.0\n",
       "39       1965.0\n",
       "40       1965.0\n",
       "41       1950.0\n",
       "42       2009.0\n",
       "43       1980.0\n",
       "          ...  \n",
       "12154    1970.0\n",
       "12156    1890.0\n",
       "12157    2000.0\n",
       "12159    2000.0\n",
       "12164    1965.0\n",
       "12168    1930.0\n",
       "12169    1999.0\n",
       "12171    1985.0\n",
       "12172    1994.0\n",
       "12173    1950.0\n",
       "12174    1980.0\n",
       "12175    1970.0\n",
       "12177    2004.0\n",
       "12180    1970.0\n",
       "12181    1970.0\n",
       "12183    2010.0\n",
       "12186    1999.0\n",
       "12187    2011.0\n",
       "12188    1980.0\n",
       "12192    1985.0\n",
       "12197    2002.0\n",
       "12198    1980.0\n",
       "12199    2013.0\n",
       "12202    1997.0\n",
       "12203    1975.0\n",
       "12205    1996.0\n",
       "12206    1890.0\n",
       "12207    1967.0\n",
       "12209    2012.0\n",
       "12212    1920.0\n",
       "Name: YearBuilt, Length: 6196, dtype: float64"
      ]
     },
     "execution_count": 80,
     "metadata": {},
     "output_type": "execute_result"
    }
   ],
   "source": [
    "# \".dropna()\" drops missing values (na stands for N/A, \"not available\")\n",
    "melb_data2 = melb_data.dropna(axis=0)\n",
    "\n",
    "melb_data2.YearBuilt"
   ]
  },
  {
   "cell_type": "code",
   "execution_count": null,
   "metadata": {},
   "outputs": [],
   "source": []
  },
  {
   "cell_type": "markdown",
   "metadata": {},
   "source": [
    "\n",
    "## [4. Build Machine Learning Model](https://www.kaggle.com/dansbecker/your-first-machine-learning-model)\n",
    "\n",
    "Building your first model. Hurray!\n",
    "\n",
    "    The goal is to form a X-Y plane, \n",
    "    in which Y usually is the result we're predicting,\n",
    "    X is the \"feature\" we're comparing with the result"
   ]
  },
  {
   "cell_type": "code",
   "execution_count": 81,
   "metadata": {
    "ExecuteTime": {
     "end_time": "2018-10-06T12:21:12.417093Z",
     "start_time": "2018-10-06T12:21:12.413474Z"
    }
   },
   "outputs": [],
   "source": [
    "y = melb_data.Price"
   ]
  },
  {
   "cell_type": "code",
   "execution_count": 82,
   "metadata": {
    "ExecuteTime": {
     "end_time": "2018-10-06T12:21:12.466375Z",
     "start_time": "2018-10-06T12:21:12.421422Z"
    }
   },
   "outputs": [
    {
     "data": {
      "text/html": [
       "<div>\n",
       "<style scoped>\n",
       "    .dataframe tbody tr th:only-of-type {\n",
       "        vertical-align: middle;\n",
       "    }\n",
       "\n",
       "    .dataframe tbody tr th {\n",
       "        vertical-align: top;\n",
       "    }\n",
       "\n",
       "    .dataframe thead th {\n",
       "        text-align: right;\n",
       "    }\n",
       "</style>\n",
       "<table border=\"1\" class=\"dataframe\">\n",
       "  <thead>\n",
       "    <tr style=\"text-align: right;\">\n",
       "      <th></th>\n",
       "      <th>Rooms</th>\n",
       "      <th>Bathroom</th>\n",
       "      <th>Landsize</th>\n",
       "      <th>Lattitude</th>\n",
       "      <th>Longtitude</th>\n",
       "    </tr>\n",
       "  </thead>\n",
       "  <tbody>\n",
       "    <tr>\n",
       "      <th>count</th>\n",
       "      <td>13580.000000</td>\n",
       "      <td>13580.000000</td>\n",
       "      <td>13580.000000</td>\n",
       "      <td>13580.000000</td>\n",
       "      <td>13580.000000</td>\n",
       "    </tr>\n",
       "    <tr>\n",
       "      <th>mean</th>\n",
       "      <td>2.937997</td>\n",
       "      <td>1.534242</td>\n",
       "      <td>558.416127</td>\n",
       "      <td>-37.809203</td>\n",
       "      <td>144.995216</td>\n",
       "    </tr>\n",
       "    <tr>\n",
       "      <th>std</th>\n",
       "      <td>0.955748</td>\n",
       "      <td>0.691712</td>\n",
       "      <td>3990.669241</td>\n",
       "      <td>0.079260</td>\n",
       "      <td>0.103916</td>\n",
       "    </tr>\n",
       "    <tr>\n",
       "      <th>min</th>\n",
       "      <td>1.000000</td>\n",
       "      <td>0.000000</td>\n",
       "      <td>0.000000</td>\n",
       "      <td>-38.182550</td>\n",
       "      <td>144.431810</td>\n",
       "    </tr>\n",
       "    <tr>\n",
       "      <th>25%</th>\n",
       "      <td>2.000000</td>\n",
       "      <td>1.000000</td>\n",
       "      <td>177.000000</td>\n",
       "      <td>-37.856822</td>\n",
       "      <td>144.929600</td>\n",
       "    </tr>\n",
       "    <tr>\n",
       "      <th>50%</th>\n",
       "      <td>3.000000</td>\n",
       "      <td>1.000000</td>\n",
       "      <td>440.000000</td>\n",
       "      <td>-37.802355</td>\n",
       "      <td>145.000100</td>\n",
       "    </tr>\n",
       "    <tr>\n",
       "      <th>75%</th>\n",
       "      <td>3.000000</td>\n",
       "      <td>2.000000</td>\n",
       "      <td>651.000000</td>\n",
       "      <td>-37.756400</td>\n",
       "      <td>145.058305</td>\n",
       "    </tr>\n",
       "    <tr>\n",
       "      <th>max</th>\n",
       "      <td>10.000000</td>\n",
       "      <td>8.000000</td>\n",
       "      <td>433014.000000</td>\n",
       "      <td>-37.408530</td>\n",
       "      <td>145.526350</td>\n",
       "    </tr>\n",
       "  </tbody>\n",
       "</table>\n",
       "</div>"
      ],
      "text/plain": [
       "              Rooms      Bathroom       Landsize     Lattitude    Longtitude\n",
       "count  13580.000000  13580.000000   13580.000000  13580.000000  13580.000000\n",
       "mean       2.937997      1.534242     558.416127    -37.809203    144.995216\n",
       "std        0.955748      0.691712    3990.669241      0.079260      0.103916\n",
       "min        1.000000      0.000000       0.000000    -38.182550    144.431810\n",
       "25%        2.000000      1.000000     177.000000    -37.856822    144.929600\n",
       "50%        3.000000      1.000000     440.000000    -37.802355    145.000100\n",
       "75%        3.000000      2.000000     651.000000    -37.756400    145.058305\n",
       "max       10.000000      8.000000  433014.000000    -37.408530    145.526350"
      ]
     },
     "execution_count": 82,
     "metadata": {},
     "output_type": "execute_result"
    }
   ],
   "source": [
    "features = ['Rooms', 'Bathroom', 'Landsize', 'Lattitude', 'Longtitude']\n",
    "\n",
    "X = melb_data[features]\n",
    "\n",
    "X.describe()"
   ]
  },
  {
   "cell_type": "code",
   "execution_count": 83,
   "metadata": {
    "ExecuteTime": {
     "end_time": "2018-10-06T12:21:12.488568Z",
     "start_time": "2018-10-06T12:21:12.470149Z"
    },
    "scrolled": true
   },
   "outputs": [
    {
     "data": {
      "text/html": [
       "<div>\n",
       "<style scoped>\n",
       "    .dataframe tbody tr th:only-of-type {\n",
       "        vertical-align: middle;\n",
       "    }\n",
       "\n",
       "    .dataframe tbody tr th {\n",
       "        vertical-align: top;\n",
       "    }\n",
       "\n",
       "    .dataframe thead th {\n",
       "        text-align: right;\n",
       "    }\n",
       "</style>\n",
       "<table border=\"1\" class=\"dataframe\">\n",
       "  <thead>\n",
       "    <tr style=\"text-align: right;\">\n",
       "      <th></th>\n",
       "      <th>Rooms</th>\n",
       "      <th>Bathroom</th>\n",
       "      <th>Landsize</th>\n",
       "      <th>Lattitude</th>\n",
       "      <th>Longtitude</th>\n",
       "    </tr>\n",
       "  </thead>\n",
       "  <tbody>\n",
       "    <tr>\n",
       "      <th>0</th>\n",
       "      <td>2</td>\n",
       "      <td>1.0</td>\n",
       "      <td>202.0</td>\n",
       "      <td>-37.7996</td>\n",
       "      <td>144.9984</td>\n",
       "    </tr>\n",
       "    <tr>\n",
       "      <th>1</th>\n",
       "      <td>2</td>\n",
       "      <td>1.0</td>\n",
       "      <td>156.0</td>\n",
       "      <td>-37.8079</td>\n",
       "      <td>144.9934</td>\n",
       "    </tr>\n",
       "    <tr>\n",
       "      <th>2</th>\n",
       "      <td>3</td>\n",
       "      <td>2.0</td>\n",
       "      <td>134.0</td>\n",
       "      <td>-37.8093</td>\n",
       "      <td>144.9944</td>\n",
       "    </tr>\n",
       "    <tr>\n",
       "      <th>3</th>\n",
       "      <td>3</td>\n",
       "      <td>2.0</td>\n",
       "      <td>94.0</td>\n",
       "      <td>-37.7969</td>\n",
       "      <td>144.9969</td>\n",
       "    </tr>\n",
       "    <tr>\n",
       "      <th>4</th>\n",
       "      <td>4</td>\n",
       "      <td>1.0</td>\n",
       "      <td>120.0</td>\n",
       "      <td>-37.8072</td>\n",
       "      <td>144.9941</td>\n",
       "    </tr>\n",
       "  </tbody>\n",
       "</table>\n",
       "</div>"
      ],
      "text/plain": [
       "   Rooms  Bathroom  Landsize  Lattitude  Longtitude\n",
       "0      2       1.0     202.0   -37.7996    144.9984\n",
       "1      2       1.0     156.0   -37.8079    144.9934\n",
       "2      3       2.0     134.0   -37.8093    144.9944\n",
       "3      3       2.0      94.0   -37.7969    144.9969\n",
       "4      4       1.0     120.0   -37.8072    144.9941"
      ]
     },
     "execution_count": 83,
     "metadata": {},
     "output_type": "execute_result"
    }
   ],
   "source": [
    "# show the first few rows\n",
    "X.head()"
   ]
  },
  {
   "cell_type": "markdown",
   "metadata": {},
   "source": [
    ">"
   ]
  },
  {
   "cell_type": "code",
   "execution_count": 84,
   "metadata": {
    "ExecuteTime": {
     "end_time": "2018-10-06T12:21:12.497971Z",
     "start_time": "2018-10-06T12:21:12.491593Z"
    }
   },
   "outputs": [],
   "source": [
    "# step1: Define model\n",
    "\n",
    "from sklearn.tree import DecisionTreeRegressor\n",
    "\n",
    "melb_model = DecisionTreeRegressor(random_state=1)"
   ]
  },
  {
   "cell_type": "code",
   "execution_count": 85,
   "metadata": {
    "ExecuteTime": {
     "end_time": "2018-10-06T12:21:12.577355Z",
     "start_time": "2018-10-06T12:21:12.501779Z"
    }
   },
   "outputs": [
    {
     "data": {
      "text/plain": [
       "DecisionTreeRegressor(criterion='mse', max_depth=None, max_features=None,\n",
       "           max_leaf_nodes=None, min_impurity_decrease=0.0,\n",
       "           min_impurity_split=None, min_samples_leaf=1,\n",
       "           min_samples_split=2, min_weight_fraction_leaf=0.0,\n",
       "           presort=False, random_state=1, splitter='best')"
      ]
     },
     "execution_count": 85,
     "metadata": {},
     "output_type": "execute_result"
    }
   ],
   "source": [
    "# step2: Fit model\n",
    "melb_model.fit(X, y)"
   ]
  },
  {
   "cell_type": "code",
   "execution_count": 86,
   "metadata": {
    "ExecuteTime": {
     "end_time": "2018-10-06T12:21:12.592081Z",
     "start_time": "2018-10-06T12:21:12.580446Z"
    }
   },
   "outputs": [
    {
     "data": {
      "text/plain": [
       "array([1480000., 1035000., 1465000., ..., 1170000., 2500000., 1285000.])"
      ]
     },
     "execution_count": 86,
     "metadata": {},
     "output_type": "execute_result"
    }
   ],
   "source": [
    "# step3: Predict value\n",
    "predicts = melb_model.predict(X)\n",
    "\n",
    "predicts"
   ]
  },
  {
   "cell_type": "code",
   "execution_count": 87,
   "metadata": {
    "ExecuteTime": {
     "end_time": "2018-10-06T12:21:12.603515Z",
     "start_time": "2018-10-06T12:21:12.595545Z"
    }
   },
   "outputs": [
    {
     "data": {
      "text/plain": [
       "0    1480000.0\n",
       "1    1035000.0\n",
       "2    1465000.0\n",
       "3     850000.0\n",
       "4    1600000.0\n",
       "Name: Price, dtype: float64"
      ]
     },
     "execution_count": 87,
     "metadata": {},
     "output_type": "execute_result"
    }
   ],
   "source": [
    "y.head()"
   ]
  },
  {
   "cell_type": "code",
   "execution_count": 88,
   "metadata": {
    "ExecuteTime": {
     "end_time": "2018-10-06T12:21:12.614289Z",
     "start_time": "2018-10-06T12:21:12.607360Z"
    }
   },
   "outputs": [
    {
     "name": "stdout",
     "output_type": "stream",
     "text": [
      "1125.1804614629357\n"
     ]
    }
   ],
   "source": [
    "# step4: Evaluate accuracy\n",
    "from sklearn.metrics import mean_absolute_error\n",
    "\n",
    "\n",
    "## ❌ Wrong comparison (In-sample comparison)\n",
    "errors = mean_absolute_error(y, predicts)\n",
    "\n",
    "print(errors)"
   ]
  },
  {
   "cell_type": "markdown",
   "metadata": {},
   "source": [
    "## [6. Model Validation](https://www.kaggle.com/dansbecker/model-validation)\n",
    "\n",
    "Measure the performance of your model ? so you can test and compare alternatives\n",
    "\n"
   ]
  },
  {
   "cell_type": "code",
   "execution_count": 89,
   "metadata": {
    "ExecuteTime": {
     "end_time": "2018-10-06T12:21:12.630199Z",
     "start_time": "2018-10-06T12:21:12.616678Z"
    }
   },
   "outputs": [],
   "source": [
    "# Split dataset to Train group & Test group\n",
    "from sklearn.model_selection import train_test_split\n",
    "\n",
    "X_train, X_test, y_train, y_test = train_test_split(X, y, random_state=1)"
   ]
  },
  {
   "cell_type": "code",
   "execution_count": 90,
   "metadata": {
    "ExecuteTime": {
     "end_time": "2018-10-06T12:21:12.692013Z",
     "start_time": "2018-10-06T12:21:12.633212Z"
    }
   },
   "outputs": [
    {
     "name": "stdout",
     "output_type": "stream",
     "text": [
      "240404.31281296024\n"
     ]
    }
   ],
   "source": [
    "## ❌ Wrong model\n",
    "melb_model = DecisionTreeRegressor()\n",
    "melb_model.fit(X_train, y_train)\n",
    "\n",
    "predicts = melb_model.predict(X_test)\n",
    "\n",
    "errors = mean_absolute_error(y_test, predicts)\n",
    "\n",
    "## because the errors are huge!\n",
    "print(errors)"
   ]
  },
  {
   "cell_type": "markdown",
   "metadata": {
    "ExecuteTime": {
     "end_time": "2018-10-06T11:03:17.530799Z",
     "start_time": "2018-10-06T11:03:17.520985Z"
    }
   },
   "source": [
    "## [10. Random Forests](https://www.kaggle.com/dansbecker/random-forests)\n",
    "\n",
    "Using a more sophisticated machine learning algorithm."
   ]
  },
  {
   "cell_type": "code",
   "execution_count": 97,
   "metadata": {
    "ExecuteTime": {
     "end_time": "2018-10-06T12:22:51.368977Z",
     "start_time": "2018-10-06T12:22:51.036756Z"
    }
   },
   "outputs": [
    {
     "name": "stderr",
     "output_type": "stream",
     "text": [
      "/Users/solomonxie/venv-ju/lib/python3.7/site-packages/sklearn/ensemble/forest.py:248: FutureWarning: The default value of n_estimators will change from 10 in version 0.20 to 100 in 0.22.\n",
      "  \"10 in version 0.20 to 100 in 0.22.\", FutureWarning)\n"
     ]
    },
    {
     "data": {
      "text/plain": [
       "188984.57351146644"
      ]
     },
     "execution_count": 97,
     "metadata": {},
     "output_type": "execute_result"
    }
   ],
   "source": [
    "from sklearn.ensemble import RandomForestRegressor\n",
    "\n",
    "rf_model = RandomForestRegressor(random_state=1)\n",
    "\n",
    "rf_model.fit(X_train, y_train)\n",
    "\n",
    "predicts = rf_model.predict(X_test)\n",
    "\n",
    "mean_absolute_error(y_test, predicts)"
   ]
  },
  {
   "cell_type": "code",
   "execution_count": null,
   "metadata": {},
   "outputs": [],
   "source": []
  },
  {
   "cell_type": "markdown",
   "metadata": {},
   "source": [
    "# Level2"
   ]
  },
  {
   "cell_type": "markdown",
   "metadata": {},
   "source": [
    "\n",
    "## [1. Handling Missing Values](https://www.kaggle.com/dansbecker/handling-missing-values)\n",
    "\n",
    "Learn multiple approaches for dealing with missing data fields\n"
   ]
  },
  {
   "cell_type": "code",
   "execution_count": 98,
   "metadata": {
    "ExecuteTime": {
     "end_time": "2018-10-08T06:43:33.495902Z",
     "start_time": "2018-10-08T06:43:33.320825Z"
    }
   },
   "outputs": [
    {
     "name": "stdout",
     "output_type": "stream",
     "text": [
      "kaggle-learn-ml.ipynb sample_submission.csv train.csv\r\n",
      "\u001b[31mmelb_data.csv\u001b[m\u001b[m         test.csv\r\n"
     ]
    }
   ],
   "source": [
    "!ls"
   ]
  },
  {
   "cell_type": "code",
   "execution_count": 110,
   "metadata": {
    "ExecuteTime": {
     "end_time": "2018-10-08T06:52:04.094201Z",
     "start_time": "2018-10-08T06:52:03.998170Z"
    }
   },
   "outputs": [],
   "source": [
    "# Load data\n",
    "import pandas as pd\n",
    "melb_data = pd.read_csv('melb_data.csv')\n",
    "\n",
    "y = melb_data.Price\n",
    "X = melb_data.drop(['Price'], axis=1)\n",
    "X_numeric = X.select_dtypes(exclude=['object'])\n",
    "\n"
   ]
  },
  {
   "cell_type": "code",
   "execution_count": 113,
   "metadata": {
    "ExecuteTime": {
     "end_time": "2018-10-08T06:56:39.582321Z",
     "start_time": "2018-10-08T06:56:39.570004Z"
    }
   },
   "outputs": [],
   "source": [
    "# Load Model\n",
    "from sklearn.ensemble import RandomForestRegressor\n",
    "from sklearn.metrics import mean_absolute_error\n",
    "from sklearn.model_selection import train_test_split\n",
    "\n",
    "X_train, X_test, y_train, y_test = train_test_split(X_numeric,\n",
    "                                                    y,\n",
    "                                                    train_size=0.7,\n",
    "                                                    test_size=0.3,\n",
    "                                                   random_state=0)\n",
    "\n",
    "def model_evaluation(X_train, X_test, y_train, y_test):\n",
    "    # Step1\n",
    "    model = RandomForestRegressor()\n",
    "    # Step2\n",
    "    model.fit(X_train, y_train)\n",
    "    # Step3\n",
    "    predicts = model.predict(X_test)\n",
    "    # Step4\n",
    "    errors = mean_absolute_error(y_test, predicts)\n",
    "    \n",
    "    return errors\n",
    "    "
   ]
  },
  {
   "cell_type": "code",
   "execution_count": 120,
   "metadata": {
    "ExecuteTime": {
     "end_time": "2018-10-08T07:03:14.275349Z",
     "start_time": "2018-10-08T07:03:13.775849Z"
    }
   },
   "outputs": [
    {
     "name": "stdout",
     "output_type": "stream",
     "text": [
      "['Car', 'BuildingArea', 'YearBuilt']\n"
     ]
    },
    {
     "name": "stderr",
     "output_type": "stream",
     "text": [
      "/Users/solomonxie/venv-ju/lib/python3.7/site-packages/sklearn/ensemble/forest.py:248: FutureWarning: The default value of n_estimators will change from 10 in version 0.20 to 100 in 0.22.\n",
      "  \"10 in version 0.20 to 100 in 0.22.\", FutureWarning)\n"
     ]
    },
    {
     "name": "stdout",
     "output_type": "stream",
     "text": [
      "189881.36520092573\n"
     ]
    }
   ],
   "source": [
    "# Train model from DROPPING COLUMNS\n",
    "columns_missing = [c for c in X_train.columns\n",
    "                           if X_train[c].isnull().any()]\n",
    "\n",
    "print(columns_missing)\n",
    "\n",
    "# Have to drop the same columns from both dataset\n",
    "X_train_reduced = X_train.drop(columns_missing, axis=1)\n",
    "X_test_reduced = X_test.drop(columns_missing, axis=1)\n",
    "\n",
    "errors = model_evaluation(X_train_reduced, X_test_reduced, y_train, y_test)\n",
    "\n",
    "print(errors)"
   ]
  },
  {
   "cell_type": "code",
   "execution_count": 121,
   "metadata": {
    "ExecuteTime": {
     "end_time": "2018-10-08T07:12:21.487630Z",
     "start_time": "2018-10-08T07:12:20.888191Z"
    }
   },
   "outputs": [
    {
     "name": "stderr",
     "output_type": "stream",
     "text": [
      "/Users/solomonxie/venv-ju/lib/python3.7/site-packages/sklearn/ensemble/forest.py:248: FutureWarning: The default value of n_estimators will change from 10 in version 0.20 to 100 in 0.22.\n",
      "  \"10 in version 0.20 to 100 in 0.22.\", FutureWarning)\n"
     ]
    },
    {
     "name": "stdout",
     "output_type": "stream",
     "text": [
      "187058.05632115388\n"
     ]
    }
   ],
   "source": [
    "# Train model from IMPUTATION\n",
    "from sklearn.impute import SimpleImputer\n",
    "\n",
    "imputer = SimpleImputer()\n",
    "\n",
    "X_train_imputed = imputer.fit_transform(X_train)\n",
    "X_test_imputed = imputer.transform(X_test)\n",
    "\n",
    "errors = model_evaluation(X_train_imputed, X_test_imputed, y_train, y_test)\n",
    "\n",
    "print(errors)"
   ]
  },
  {
   "cell_type": "code",
   "execution_count": 141,
   "metadata": {
    "ExecuteTime": {
     "end_time": "2018-10-08T07:33:40.579213Z",
     "start_time": "2018-10-08T07:33:39.944287Z"
    }
   },
   "outputs": [
    {
     "name": "stdout",
     "output_type": "stream",
     "text": [
      "['Car', 'BuildingArea', 'YearBuilt']\n"
     ]
    },
    {
     "name": "stderr",
     "output_type": "stream",
     "text": [
      "/Users/solomonxie/venv-ju/lib/python3.7/site-packages/sklearn/ensemble/forest.py:248: FutureWarning: The default value of n_estimators will change from 10 in version 0.20 to 100 in 0.22.\n",
      "  \"10 in version 0.20 to 100 in 0.22.\", FutureWarning)\n"
     ]
    },
    {
     "name": "stdout",
     "output_type": "stream",
     "text": [
      "183198.38701521844\n"
     ]
    }
   ],
   "source": [
    "# Get Score from Imputation with Extra Columns Showing What Was Imputed\n",
    "X_train_imputed_plus = X_train.copy()\n",
    "X_test_imputed_plus = X_test.copy()\n",
    "\n",
    "columns_missing = [c for c in X_train.columns\n",
    "                           if X_train[c].isnull().any()]\n",
    "\n",
    "print(columns_missing)\n",
    "\n",
    "for c in columns_missing:\n",
    "    X_train_imputed_plus[c + '_was_missing'] = X_train_imputed_plus[c].isnull()\n",
    "    X_test_imputed_plus[c + '_was_missing'] = X_test_imputed_plus[c].isnull()\n",
    "\n",
    "    \n",
    "# print(X_train_imputed_plus)    \n",
    "    \n",
    "## impute\n",
    "imputer = SimpleImputer()\n",
    "\n",
    "X_train_imputed_plus = imputer.fit_transform(X_train_imputed_plus)\n",
    "X_test_imputed_plus = imputer.transform(X_test_imputed_plus)\n",
    "\n",
    "errors = model_evaluation(X_train_imputed_plus, X_test_imputed_plus, y_train, y_test)\n",
    "\n",
    "print(errors)"
   ]
  },
  {
   "cell_type": "markdown",
   "metadata": {},
   "source": [
    "\n",
    "## [2. Using Categorical Data with One Hot Encoding](https://www.kaggle.com/dansbecker/using-categorical-data-with-one-hot-encoding)\n",
    "\n",
    "Handle this important but challenging data type\n"
   ]
  },
  {
   "cell_type": "code",
   "execution_count": 172,
   "metadata": {
    "ExecuteTime": {
     "end_time": "2018-10-08T08:05:44.047632Z",
     "start_time": "2018-10-08T08:05:43.912109Z"
    }
   },
   "outputs": [
    {
     "data": {
      "text/html": [
       "<div>\n",
       "<style scoped>\n",
       "    .dataframe tbody tr th:only-of-type {\n",
       "        vertical-align: middle;\n",
       "    }\n",
       "\n",
       "    .dataframe tbody tr th {\n",
       "        vertical-align: top;\n",
       "    }\n",
       "\n",
       "    .dataframe thead th {\n",
       "        text-align: right;\n",
       "    }\n",
       "</style>\n",
       "<table border=\"1\" class=\"dataframe\">\n",
       "  <thead>\n",
       "    <tr style=\"text-align: right;\">\n",
       "      <th></th>\n",
       "      <th>Type</th>\n",
       "      <th>Method</th>\n",
       "      <th>Regionname</th>\n",
       "      <th>Rooms</th>\n",
       "      <th>Distance</th>\n",
       "      <th>Postcode</th>\n",
       "      <th>Bedroom2</th>\n",
       "      <th>Bathroom</th>\n",
       "      <th>Landsize</th>\n",
       "      <th>Lattitude</th>\n",
       "      <th>Longtitude</th>\n",
       "      <th>Propertycount</th>\n",
       "    </tr>\n",
       "  </thead>\n",
       "  <tbody>\n",
       "    <tr>\n",
       "      <th>0</th>\n",
       "      <td>h</td>\n",
       "      <td>S</td>\n",
       "      <td>Northern Metropolitan</td>\n",
       "      <td>2</td>\n",
       "      <td>2.5</td>\n",
       "      <td>3067.0</td>\n",
       "      <td>2.0</td>\n",
       "      <td>1.0</td>\n",
       "      <td>202.0</td>\n",
       "      <td>-37.7996</td>\n",
       "      <td>144.9984</td>\n",
       "      <td>4019.0</td>\n",
       "    </tr>\n",
       "    <tr>\n",
       "      <th>1</th>\n",
       "      <td>h</td>\n",
       "      <td>S</td>\n",
       "      <td>Northern Metropolitan</td>\n",
       "      <td>2</td>\n",
       "      <td>2.5</td>\n",
       "      <td>3067.0</td>\n",
       "      <td>2.0</td>\n",
       "      <td>1.0</td>\n",
       "      <td>156.0</td>\n",
       "      <td>-37.8079</td>\n",
       "      <td>144.9934</td>\n",
       "      <td>4019.0</td>\n",
       "    </tr>\n",
       "    <tr>\n",
       "      <th>2</th>\n",
       "      <td>h</td>\n",
       "      <td>SP</td>\n",
       "      <td>Northern Metropolitan</td>\n",
       "      <td>3</td>\n",
       "      <td>2.5</td>\n",
       "      <td>3067.0</td>\n",
       "      <td>3.0</td>\n",
       "      <td>2.0</td>\n",
       "      <td>134.0</td>\n",
       "      <td>-37.8093</td>\n",
       "      <td>144.9944</td>\n",
       "      <td>4019.0</td>\n",
       "    </tr>\n",
       "    <tr>\n",
       "      <th>3</th>\n",
       "      <td>h</td>\n",
       "      <td>PI</td>\n",
       "      <td>Northern Metropolitan</td>\n",
       "      <td>3</td>\n",
       "      <td>2.5</td>\n",
       "      <td>3067.0</td>\n",
       "      <td>3.0</td>\n",
       "      <td>2.0</td>\n",
       "      <td>94.0</td>\n",
       "      <td>-37.7969</td>\n",
       "      <td>144.9969</td>\n",
       "      <td>4019.0</td>\n",
       "    </tr>\n",
       "    <tr>\n",
       "      <th>4</th>\n",
       "      <td>h</td>\n",
       "      <td>VB</td>\n",
       "      <td>Northern Metropolitan</td>\n",
       "      <td>4</td>\n",
       "      <td>2.5</td>\n",
       "      <td>3067.0</td>\n",
       "      <td>3.0</td>\n",
       "      <td>1.0</td>\n",
       "      <td>120.0</td>\n",
       "      <td>-37.8072</td>\n",
       "      <td>144.9941</td>\n",
       "      <td>4019.0</td>\n",
       "    </tr>\n",
       "  </tbody>\n",
       "</table>\n",
       "</div>"
      ],
      "text/plain": [
       "  Type Method             Regionname  Rooms  Distance  Postcode  Bedroom2  \\\n",
       "0    h      S  Northern Metropolitan      2       2.5    3067.0       2.0   \n",
       "1    h      S  Northern Metropolitan      2       2.5    3067.0       2.0   \n",
       "2    h     SP  Northern Metropolitan      3       2.5    3067.0       3.0   \n",
       "3    h     PI  Northern Metropolitan      3       2.5    3067.0       3.0   \n",
       "4    h     VB  Northern Metropolitan      4       2.5    3067.0       3.0   \n",
       "\n",
       "   Bathroom  Landsize  Lattitude  Longtitude  Propertycount  \n",
       "0       1.0     202.0   -37.7996    144.9984         4019.0  \n",
       "1       1.0     156.0   -37.8079    144.9934         4019.0  \n",
       "2       2.0     134.0   -37.8093    144.9944         4019.0  \n",
       "3       2.0      94.0   -37.7969    144.9969         4019.0  \n",
       "4       1.0     120.0   -37.8072    144.9941         4019.0  "
      ]
     },
     "execution_count": 172,
     "metadata": {},
     "output_type": "execute_result"
    }
   ],
   "source": [
    "# Usual approach\n",
    "import pandas as pd\n",
    "melb_data = pd.read_csv('melb_data.csv')\n",
    "## Drop N/A in the dataset\n",
    "melb_data.dropna(axis=0, subset=['Price'], inplace=True)\n",
    "\n",
    "y = melb_data.Price\n",
    "\n",
    "\n",
    "## Columns organizing\n",
    "columns_missing = [c for c in melb_data.columns\n",
    "                           if melb_data[c].isnull().any()]\n",
    "\n",
    "X_train_candidates = melb_data.drop(['Price'] + columns_missing, axis=1)\n",
    "X_test_candidates = melb_data.drop(columns_missing, axis=1)\n",
    "\n",
    "columns_low_cardinality = [cname for cname in X_train_candidates.columns if\n",
    "                                    X_train_candidates[cname].nunique() < 10 and\n",
    "                                    X_train_candidates[cname].dtype == 'object']\n",
    "\n",
    "columns_numeric = [cname for cname in columns_train.columns if\n",
    "                          X_train_candidates[cname].dtype in ['int64', 'float64']]\n",
    "\n",
    "my_columns = columns_low_cardinality + columns_numeric\n",
    "\n",
    "X_train = X_train_candidates[my_columns]\n",
    "X_test = X_test_candidates[my_columns]\n",
    "\n",
    "X_train.head()"
   ]
  },
  {
   "cell_type": "code",
   "execution_count": 178,
   "metadata": {
    "ExecuteTime": {
     "end_time": "2018-10-08T08:30:14.850307Z",
     "start_time": "2018-10-08T08:30:00.987051Z"
    }
   },
   "outputs": [
    {
     "name": "stderr",
     "output_type": "stream",
     "text": [
      "/Users/solomonxie/venv-ju/lib/python3.7/site-packages/sklearn/model_selection/_split.py:1943: FutureWarning: You should specify a value for 'cv' instead of relying on the default value. The default value will change from 3 to 5 in version 0.22.\n",
      "  warnings.warn(CV_WARNING, FutureWarning)\n",
      "/Users/solomonxie/venv-ju/lib/python3.7/site-packages/sklearn/model_selection/_split.py:1943: FutureWarning: You should specify a value for 'cv' instead of relying on the default value. The default value will change from 3 to 5 in version 0.22.\n",
      "  warnings.warn(CV_WARNING, FutureWarning)\n"
     ]
    },
    {
     "name": "stdout",
     "output_type": "stream",
     "text": [
      "205032.83408867382\n",
      "194037.5153784994\n"
     ]
    }
   ],
   "source": [
    "# One-hot-encoding method for categorical data\n",
    "from sklearn.ensemble import RandomForestRegressor\n",
    "from sklearn.model_selection import cross_val_score\n",
    "\n",
    "def get_MAE(X, y):\n",
    "    return -1 * cross_val_score(RandomForestRegressor(50),\n",
    "                                X, y,\n",
    "                                scoring = 'neg_mean_absolute_error').mean()\n",
    "\n",
    "X_numeric = X_train.select_dtypes(exclude=['object'])\n",
    "X_one_hot_encoded = pd.get_dummies(X_train)\n",
    "\n",
    "errors_numeric_only = get_MAE(X_numeric, y)\n",
    "errors_one_hot_encoded = get_MAE(X_one_hot_encoded, y)\n",
    "\n",
    "print(errors_numeric_only)\n",
    "print(errors_one_hot_encoded)"
   ]
  },
  {
   "cell_type": "markdown",
   "metadata": {},
   "source": [
    "\n",
    "## [3. XGBoost](https://www.kaggle.com/dansbecker/xgboost)\n",
    "\n",
    "The most important technique for building high-performance models on conventional data (the type that fits in tables or data frames.)\n",
    "\n"
   ]
  },
  {
   "cell_type": "code",
   "execution_count": 187,
   "metadata": {
    "ExecuteTime": {
     "end_time": "2018-10-08T08:58:10.322483Z",
     "start_time": "2018-10-08T08:58:10.205330Z"
    },
    "collapsed": true
   },
   "outputs": [
    {
     "name": "stderr",
     "output_type": "stream",
     "text": [
      "/Users/solomonxie/venv-ju/lib/python3.7/site-packages/ipykernel_launcher.py:13: FutureWarning: Method .as_matrix will be removed in a future version. Use .values instead.\n",
      "  del sys.path[0]\n",
      "/Users/solomonxie/venv-ju/lib/python3.7/site-packages/ipykernel_launcher.py:14: FutureWarning: Method .as_matrix will be removed in a future version. Use .values instead.\n",
      "  \n",
      "/Users/solomonxie/venv-ju/lib/python3.7/site-packages/sklearn/utils/deprecation.py:58: DeprecationWarning: Class Imputer is deprecated; Imputer was deprecated in version 0.20 and will be removed in 0.22. Import impute.SimpleImputer from sklearn instead.\n",
      "  warnings.warn(msg, category=DeprecationWarning)\n"
     ]
    }
   ],
   "source": [
    "# Preparing data\n",
    "import pandas as pd\n",
    "from sklearn.model_selection import train_test_split\n",
    "from sklearn.preprocessing import Imputer\n",
    "\n",
    "\n",
    "data = pd.read_csv('melb_data.csv')\n",
    "data.dropna(axis=0, subset=['Price'])\n",
    "\n",
    "y = data.Price\n",
    "X = data.drop(['Price'], axis=1).select_dtypes(exclude=['object'])\n",
    "\n",
    "X_train, X_test, y_train, y_test = train_test_split(X.as_matrix(),\n",
    "                                                     y.as_matrix(),\n",
    "                                                    test_size=0.25)\n",
    "## impute nulls\n",
    "imputer = Imputer()\n",
    "X_train = imputer.fit_transform(X_train)\n",
    "X_test = imputer.transform(X_test)\n"
   ]
  },
  {
   "cell_type": "code",
   "execution_count": 199,
   "metadata": {
    "ExecuteTime": {
     "end_time": "2018-10-08T09:06:49.569684Z",
     "start_time": "2018-10-08T09:06:47.500950Z"
    }
   },
   "outputs": [
    {
     "name": "stdout",
     "output_type": "stream",
     "text": [
      "189160.93010027384\n"
     ]
    }
   ],
   "source": [
    "# Build XGBoost model\n",
    "from xgboost import XGBRegressor\n",
    "\n",
    "model = XGBRegressor()\n",
    "model.fit(X_train, y_train, verbose=False)\n",
    "\n",
    "# make predictions\n",
    "predicts = model.predict(X_test)\n",
    "\n",
    "# Evaluate model\n",
    "from sklearn.metrics import mean_absolute_error\n",
    "errors = mean_absolute_error(y_test, predicts)\n",
    "\n",
    "print(errors)"
   ]
  },
  {
   "cell_type": "code",
   "execution_count": 217,
   "metadata": {
    "ExecuteTime": {
     "end_time": "2018-10-08T09:14:35.834143Z",
     "start_time": "2018-10-08T09:14:34.620168Z"
    }
   },
   "outputs": [
    {
     "name": "stdout",
     "output_type": "stream",
     "text": [
      "189309.24912670287\n"
     ]
    }
   ],
   "source": [
    "# n_estimator & early_stopping_rounds & leanring_rate\n",
    "\n",
    "from xgboost import XGBRegressor\n",
    "\n",
    "model = XGBRegressor(n_estimators=1000, learning_rate=0.5)\n",
    "model.fit(X_train, y_train, \n",
    "          early_stopping_rounds=50,\n",
    "          eval_set=[(X_test, y_test)],\n",
    "          verbose=False)\n",
    "\n",
    "# make predictions\n",
    "predicts = model.predict(X_test)\n",
    "\n",
    "# Evaluate model\n",
    "from sklearn.metrics import mean_absolute_error\n",
    "errors = mean_absolute_error(y_test, predicts)\n",
    "\n",
    "print(errors)"
   ]
  },
  {
   "cell_type": "code",
   "execution_count": null,
   "metadata": {},
   "outputs": [],
   "source": [
    "# Learning Rate"
   ]
  }
 ],
 "metadata": {
  "gist": {
   "data": {
    "description": "kaggle-learn-ml.ipynb",
    "public": true
   },
   "id": ""
  },
  "kernelspec": {
   "display_name": "Python 3",
   "language": "python",
   "name": "python3"
  },
  "language_info": {
   "codemirror_mode": {
    "name": "ipython",
    "version": 3
   },
   "file_extension": ".py",
   "mimetype": "text/x-python",
   "name": "python",
   "nbconvert_exporter": "python",
   "pygments_lexer": "ipython3",
   "version": "3.7.0"
  },
  "toc": {
   "base_numbering": 1,
   "nav_menu": {},
   "number_sections": true,
   "sideBar": true,
   "skip_h1_title": false,
   "title_cell": "Table of Contents",
   "title_sidebar": "Contents",
   "toc_cell": false,
   "toc_position": {},
   "toc_section_display": true,
   "toc_window_display": false
  },
  "varInspector": {
   "cols": {
    "lenName": 16,
    "lenType": 16,
    "lenVar": 40
   },
   "kernels_config": {
    "python": {
     "delete_cmd_postfix": "",
     "delete_cmd_prefix": "del ",
     "library": "var_list.py",
     "varRefreshCmd": "print(var_dic_list())"
    },
    "r": {
     "delete_cmd_postfix": ") ",
     "delete_cmd_prefix": "rm(",
     "library": "var_list.r",
     "varRefreshCmd": "cat(var_dic_list()) "
    }
   },
   "oldHeight": 122,
   "position": {
    "height": "269px",
    "left": "83px",
    "right": "34px",
    "top": "164px",
    "width": "680px"
   },
   "types_to_exclude": [
    "module",
    "function",
    "builtin_function_or_method",
    "instance",
    "_Feature"
   ],
   "varInspector_section_display": "block",
   "window_display": false
  }
 },
 "nbformat": 4,
 "nbformat_minor": 2
}
